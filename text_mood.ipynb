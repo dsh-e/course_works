{
  "nbformat": 4,
  "nbformat_minor": 0,
  "metadata": {
    "colab": {
      "name": "w2v_cnn_and_lstm.ipynb",
      "provenance": [],
      "collapsed_sections": []
    },
    "kernelspec": {
      "name": "python3",
      "display_name": "Python 3"
    },
    "accelerator": "GPU"
  },
  "cells": [
    {
      "cell_type": "code",
      "metadata": {
        "id": "FFNK4aGfGsvf"
      },
      "source": [
        "import tensorflow as tf\n",
        "from tensorflow.keras.layers import LSTM, GRU, Dense, Embedding, Dropout\n",
        "from tensorflow.keras.preprocessing import text, sequence \n",
        "from tensorflow.keras.models import Sequential\n",
        "from sklearn.model_selection import train_test_split\n",
        "import pandas as pd\n",
        "import numpy as np\n",
        "\n",
        "\n",
        "import re\n",
        "import nltk\n",
        "from nltk.tokenize import word_tokenize\n",
        "from nltk.corpus import stopwords\n",
        "\n",
        "import matplotlib.pyplot as plt"
      ],
      "execution_count": null,
      "outputs": []
    },
    {
      "cell_type": "code",
      "metadata": {
        "id": "5Q-4jV3TGyPT"
      },
      "source": [
        "import pandas as pd\n",
        "n = ['id', 'date', 'name', 'text', 'type', 'rep', 'rtw', 'fav', 'stcount', 'foll', 'friends', 'listcount']\n",
        "\n",
        "positive = pd.read_csv(\"/content/drive/My Drive/datasets/positive.csv\", sep=';', comment='#', header = None, names = n)\n",
        "negative = pd.read_csv(\"/content/drive/My Drive/datasets/negative.csv\", sep=';', comment='#', header = None, names = n)"
      ],
      "execution_count": null,
      "outputs": []
    },
    {
      "cell_type": "code",
      "metadata": {
        "id": "y3Md4PC7G9jF"
      },
      "source": [
        "import numpy as np\n",
        "\n",
        "sample_size = min(positive.shape[0], negative.shape[0])\n",
        "raw_data = np.concatenate((positive['text'].values[:sample_size],\n",
        "                           negative['text'].values[:sample_size]), axis=0)\n",
        "labels = [1] * sample_size + [0] * sample_size"
      ],
      "execution_count": null,
      "outputs": []
    },
    {
      "cell_type": "code",
      "metadata": {
        "colab": {
          "base_uri": "https://localhost:8080/"
        },
        "id": "qmLfZiMb_NiZ",
        "outputId": "a471d73f-0e65-454c-9b2a-be43926dd0fc"
      },
      "source": [
        "raw_data[:5]"
      ],
      "execution_count": null,
      "outputs": [
        {
          "output_type": "execute_result",
          "data": {
            "text/plain": [
              "array(['@first_timee хоть я и школота, но поверь, у нас то же самое :D общество профилирующий предмет типа)',\n",
              "       'Да, все-таки он немного похож на него. Но мой мальчик все равно лучше:D',\n",
              "       'RT @KatiaCheh: Ну ты идиотка) я испугалась за тебя!!!',\n",
              "       'RT @digger2912: \"Кто то в углу сидит и погибает от голода, а мы ещё 2 порции взяли, хотя уже и так жрать не хотим\" :DD http://t.co/GqG6iuE2…',\n",
              "       '@irina_dyshkant Вот что значит страшилка :D\\nНо блин,посмотрев все части,у тебя создастся ощущение,что авторы курили что-то :D'],\n",
              "      dtype=object)"
            ]
          },
          "metadata": {
            "tags": []
          },
          "execution_count": 4
        }
      ]
    },
    {
      "cell_type": "code",
      "metadata": {
        "id": "2uXIIeSJyWUf"
      },
      "source": [
        "import re\n",
        "\n",
        "def preprocess_text(text):\n",
        "    text = text.lower().replace(\"ё\", \"е\")\n",
        "    text = re.sub('((www\\.[^\\s]+)|(https?://[^\\s]+))', ' ', text) \n",
        "    text = re.sub('[a-zA-z]+', ' ', text)\n",
        "    text = re.sub('@[^\\s]+', ' ', text)\n",
        "    text = re.sub('[^a-zA-Zа-яА-Я1-9]+', ' ', text)\n",
        "    text = re.sub(' +', ' ', text)\n",
        "    \n",
        "    return text.strip()\n",
        "\n",
        "data = [preprocess_text(t) for t in raw_data]"
      ],
      "execution_count": null,
      "outputs": []
    },
    {
      "cell_type": "code",
      "metadata": {
        "id": "XpIAnHrxycmw",
        "colab": {
          "base_uri": "https://localhost:8080/"
        },
        "outputId": "8a7958b8-1cec-4189-dee1-66a27d9efd27"
      },
      "source": [
        "data[:10]"
      ],
      "execution_count": null,
      "outputs": [
        {
          "output_type": "execute_result",
          "data": {
            "text/plain": [
              "['хоть я и школота но поверь у нас то же самое общество профилирующий предмет типа',\n",
              " 'да все таки он немного похож на него но мой мальчик все равно лучше',\n",
              " 'ну ты идиотка я испугалась за тебя',\n",
              " '2912 кто то в углу сидит и погибает от голода а мы еще 2 порции взяли хотя уже и так жрать не хотим',\n",
              " 'вот что значит страшилка но блин посмотрев все части у тебя создастся ощущение что авторы курили что то',\n",
              " 'ну любишь или нет я не знаю кто ты бля',\n",
              " 'ох 9 ну это конечно же чтобы у нее было много друзей ведь она такая мимими 3',\n",
              " 'у тебя есть ухажер нет мои уши не кто не жрет',\n",
              " 'поприветствуем моего нового читателя 1789',\n",
              " 'теперь у меня есть частичка сиднея']"
            ]
          },
          "metadata": {
            "tags": []
          },
          "execution_count": 6
        }
      ]
    },
    {
      "cell_type": "code",
      "metadata": {
        "id": "MXPrwzBaIbu-",
        "colab": {
          "base_uri": "https://localhost:8080/"
        },
        "outputId": "56ba5730-d278-4e07-ff2f-59f144daefce"
      },
      "source": [
        "!pip install pymorphy2\n"
      ],
      "execution_count": null,
      "outputs": [
        {
          "output_type": "stream",
          "text": [
            "Collecting pymorphy2\n",
            "\u001b[?25l  Downloading https://files.pythonhosted.org/packages/07/57/b2ff2fae3376d4f3c697b9886b64a54b476e1a332c67eee9f88e7f1ae8c9/pymorphy2-0.9.1-py3-none-any.whl (55kB)\n",
            "\u001b[K     |████████████████████████████████| 61kB 672kB/s \n",
            "\u001b[?25hCollecting pymorphy2-dicts-ru<3.0,>=2.4\n",
            "\u001b[?25l  Downloading https://files.pythonhosted.org/packages/3a/79/bea0021eeb7eeefde22ef9e96badf174068a2dd20264b9a378f2be1cdd9e/pymorphy2_dicts_ru-2.4.417127.4579844-py2.py3-none-any.whl (8.2MB)\n",
            "\u001b[K     |████████████████████████████████| 8.2MB 5.5MB/s \n",
            "\u001b[?25hRequirement already satisfied: docopt>=0.6 in /usr/local/lib/python3.6/dist-packages (from pymorphy2) (0.6.2)\n",
            "Collecting dawg-python>=0.7.1\n",
            "  Downloading https://files.pythonhosted.org/packages/6a/84/ff1ce2071d4c650ec85745766c0047ccc3b5036f1d03559fd46bb38b5eeb/DAWG_Python-0.7.2-py2.py3-none-any.whl\n",
            "Installing collected packages: pymorphy2-dicts-ru, dawg-python, pymorphy2\n",
            "Successfully installed dawg-python-0.7.2 pymorphy2-0.9.1 pymorphy2-dicts-ru-2.4.417127.4579844\n"
          ],
          "name": "stdout"
        }
      ]
    },
    {
      "cell_type": "code",
      "metadata": {
        "id": "GsFb3u1jIXft",
        "colab": {
          "base_uri": "https://localhost:8080/"
        },
        "outputId": "e3e77c39-fcdb-4bec-b95e-3f5ded9bbaf3"
      },
      "source": [
        "import pymorphy2\n",
        "import nltk\n",
        "nltk.download(\"stopwords\")\n",
        "nltk.download(\"punkt\")\n",
        " \n",
        "\n",
        "from nltk.corpus import stopwords\n",
        "\n",
        "from nltk.tokenize import word_tokenize\n",
        "\n",
        "# Создаем леммантизатор и список стоп-слов\n",
        "morph = pymorphy2.MorphAnalyzer()\n",
        "russian_stopwords = stopwords.words(\"russian\")\n",
        "stop_words = stopwords.words(\"russian\")"
      ],
      "execution_count": null,
      "outputs": [
        {
          "output_type": "stream",
          "text": [
            "[nltk_data] Downloading package stopwords to /root/nltk_data...\n",
            "[nltk_data]   Unzipping corpora/stopwords.zip.\n",
            "[nltk_data] Downloading package punkt to /root/nltk_data...\n",
            "[nltk_data]   Unzipping tokenizers/punkt.zip.\n"
          ],
          "name": "stdout"
        }
      ]
    },
    {
      "cell_type": "code",
      "metadata": {
        "id": "0prO326MIfj4"
      },
      "source": [
        "def nltk_preprocess_text(text):\n",
        "    tokens = word_tokenize(text, language=\"russian\")\n",
        "    filtered_tokens = []\n",
        "    for token in tokens:\n",
        "      if token not in stop_words:\n",
        "          token = morph.parse(token)[0].normal_form\n",
        "          filtered_tokens.append(token)\n",
        "    text = \" \".join(filtered_tokens)\n",
        "    return text\n",
        "data_prep = [nltk_preprocess_text(t) for t in data]"
      ],
      "execution_count": null,
      "outputs": []
    },
    {
      "cell_type": "code",
      "metadata": {
        "colab": {
          "base_uri": "https://localhost:8080/"
        },
        "id": "g22KPtDkKKX0",
        "outputId": "30cf1824-cca4-462e-b6f9-ef38d5ab3b0d"
      },
      "source": [
        "data_prep[:3]"
      ],
      "execution_count": null,
      "outputs": [
        {
          "output_type": "execute_result",
          "data": {
            "text/plain": [
              "['школотый поверь самый общество профилировать предмет тип',\n",
              " 'таки немного похожий мальчик равно',\n",
              " 'идиотка испугаться']"
            ]
          },
          "metadata": {
            "tags": []
          },
          "execution_count": 10
        }
      ]
    },
    {
      "cell_type": "code",
      "metadata": {
        "id": "gsk79MDIHB_u",
        "colab": {
          "base_uri": "https://localhost:8080/",
          "height": 419
        },
        "outputId": "3f35f933-6daa-4f2c-9572-e3ecc4ad12fd"
      },
      "source": [
        "d = {'data_cleaned':data_prep, 'mark':labels}\n",
        "df = pd.DataFrame(d)\n",
        "df"
      ],
      "execution_count": null,
      "outputs": [
        {
          "output_type": "execute_result",
          "data": {
            "text/html": [
              "<div>\n",
              "<style scoped>\n",
              "    .dataframe tbody tr th:only-of-type {\n",
              "        vertical-align: middle;\n",
              "    }\n",
              "\n",
              "    .dataframe tbody tr th {\n",
              "        vertical-align: top;\n",
              "    }\n",
              "\n",
              "    .dataframe thead th {\n",
              "        text-align: right;\n",
              "    }\n",
              "</style>\n",
              "<table border=\"1\" class=\"dataframe\">\n",
              "  <thead>\n",
              "    <tr style=\"text-align: right;\">\n",
              "      <th></th>\n",
              "      <th>data_cleaned</th>\n",
              "      <th>mark</th>\n",
              "    </tr>\n",
              "  </thead>\n",
              "  <tbody>\n",
              "    <tr>\n",
              "      <th>0</th>\n",
              "      <td>школотый поверь самый общество профилировать п...</td>\n",
              "      <td>1</td>\n",
              "    </tr>\n",
              "    <tr>\n",
              "      <th>1</th>\n",
              "      <td>таки немного похожий мальчик равно</td>\n",
              "      <td>1</td>\n",
              "    </tr>\n",
              "    <tr>\n",
              "      <th>2</th>\n",
              "      <td>идиотка испугаться</td>\n",
              "      <td>1</td>\n",
              "    </tr>\n",
              "    <tr>\n",
              "      <th>3</th>\n",
              "      <td>2912 угол сидеть погибать голод 2 порция взять...</td>\n",
              "      <td>1</td>\n",
              "    </tr>\n",
              "    <tr>\n",
              "      <th>4</th>\n",
              "      <td>значит страшилка блин посмотреть часть создать...</td>\n",
              "      <td>1</td>\n",
              "    </tr>\n",
              "    <tr>\n",
              "      <th>...</th>\n",
              "      <td>...</td>\n",
              "      <td>...</td>\n",
              "    </tr>\n",
              "    <tr>\n",
              "      <th>223841</th>\n",
              "      <td>каждый хотеть исправлять</td>\n",
              "      <td>0</td>\n",
              "    </tr>\n",
              "    <tr>\n",
              "      <th>223842</th>\n",
              "      <td>скучать вправлять мозг равно скучать</td>\n",
              "      <td>0</td>\n",
              "    </tr>\n",
              "    <tr>\n",
              "      <th>223843</th>\n",
              "      <td>школа говно это идти</td>\n",
              "      <td>0</td>\n",
              "    </tr>\n",
              "    <tr>\n",
              "      <th>223844</th>\n",
              "      <td>тауриэль грусть обнять</td>\n",
              "      <td>0</td>\n",
              "    </tr>\n",
              "    <tr>\n",
              "      <th>223845</th>\n",
              "      <td>такси везти работа раздумывать приплатить втащ...</td>\n",
              "      <td>0</td>\n",
              "    </tr>\n",
              "  </tbody>\n",
              "</table>\n",
              "<p>223846 rows × 2 columns</p>\n",
              "</div>"
            ],
            "text/plain": [
              "                                             data_cleaned  mark\n",
              "0       школотый поверь самый общество профилировать п...     1\n",
              "1                      таки немного похожий мальчик равно     1\n",
              "2                                      идиотка испугаться     1\n",
              "3       2912 угол сидеть погибать голод 2 порция взять...     1\n",
              "4       значит страшилка блин посмотреть часть создать...     1\n",
              "...                                                   ...   ...\n",
              "223841                           каждый хотеть исправлять     0\n",
              "223842               скучать вправлять мозг равно скучать     0\n",
              "223843                               школа говно это идти     0\n",
              "223844                             тауриэль грусть обнять     0\n",
              "223845  такси везти работа раздумывать приплатить втащ...     0\n",
              "\n",
              "[223846 rows x 2 columns]"
            ]
          },
          "metadata": {
            "tags": []
          },
          "execution_count": 11
        }
      ]
    },
    {
      "cell_type": "code",
      "metadata": {
        "id": "vvNq9a1pKs5a",
        "colab": {
          "base_uri": "https://localhost:8080/"
        },
        "outputId": "bbeebcf3-f450-422a-e61b-265ea7b31c06"
      },
      "source": [
        "xtrain, xtest, ytrain, ytest = train_test_split(df['data_cleaned'], df['mark'], shuffle = True, test_size=0.2)\n",
        "\n",
        "max_len = 50\n",
        "print(f'Примем за максимальное количество слов в предложении: {max_len}')"
      ],
      "execution_count": null,
      "outputs": [
        {
          "output_type": "stream",
          "text": [
            "Примем за максимальное количество слов в предложении: 50\n"
          ],
          "name": "stdout"
        }
      ]
    },
    {
      "cell_type": "code",
      "metadata": {
        "id": "x4sqvPie-UDj",
        "colab": {
          "base_uri": "https://localhost:8080/"
        },
        "outputId": "8f48308d-6b2e-4dac-9ec9-09729a1dd889"
      },
      "source": [
        "ytrain[:5]"
      ],
      "execution_count": null,
      "outputs": [
        {
          "output_type": "execute_result",
          "data": {
            "text/plain": [
              "134409    0\n",
              "23301     1\n",
              "154753    0\n",
              "96759     1\n",
              "92155     1\n",
              "Name: mark, dtype: int64"
            ]
          },
          "metadata": {
            "tags": []
          },
          "execution_count": 13
        }
      ]
    },
    {
      "cell_type": "code",
      "metadata": {
        "id": "GYoO2fdJKwbR"
      },
      "source": [
        "max_words = 10000\n",
        "tokenizer = text.Tokenizer(num_words = max_words)\n",
        "\n",
        "tokenizer.fit_on_texts(xtrain)\n",
        "\n",
        "xtrain_seq = tokenizer.texts_to_sequences(xtrain)\n",
        "xtest_seq = tokenizer.texts_to_sequences(xtest)\n",
        "\n",
        "xtrain_pad = sequence.pad_sequences(xtrain_seq, maxlen=max_len)\n",
        "xtest_pad = sequence.pad_sequences(xtest_seq, maxlen=max_len)\n",
        "word_index = tokenizer.word_index\n"
      ],
      "execution_count": null,
      "outputs": []
    },
    {
      "cell_type": "code",
      "metadata": {
        "colab": {
          "base_uri": "https://localhost:8080/"
        },
        "id": "1YuG50scYImy",
        "outputId": "77ad494e-cd4b-41c7-8a0f-9d7652a8d227"
      },
      "source": [
        "xtrain"
      ],
      "execution_count": null,
      "outputs": [
        {
          "output_type": "execute_result",
          "data": {
            "text/plain": [
              "134409    быть завтра фотаться собака лиза милый 3 это ф...\n",
              "23301     вежливый отправлять дальний нахуй жалко размен...\n",
              "154753    беспорядок сам запутаться сигать бердыев мрн м...\n",
              "96759                     думать дом один сестра проснуться\n",
              "92155     залипать комп слушать репчин мочь настроиться ...\n",
              "                                ...                        \n",
              "64977     знать какой регин нижний бельё савик твой фонт...\n",
              "67065           предстоящий чт конкурс думать пятница нарма\n",
              "215888                                     классный гыгыгга\n",
              "16520                                       подруга даааааа\n",
              "54243                72 47 это одобрять львить столица киев\n",
              "Name: data_cleaned, Length: 179076, dtype: object"
            ]
          },
          "metadata": {
            "tags": []
          },
          "execution_count": 15
        }
      ]
    },
    {
      "cell_type": "code",
      "metadata": {
        "colab": {
          "base_uri": "https://localhost:8080/"
        },
        "id": "rFcYOMy5W7Ev",
        "outputId": "ed34a2a8-3435-41eb-c56e-dde3f9e29a63"
      },
      "source": [
        "print('пример:', xtrain[2:3])\n",
        "print('до padding:', xtrain_seq[2])\n",
        "print('после padding:', xtrain_pad[2])"
      ],
      "execution_count": null,
      "outputs": [
        {
          "output_type": "stream",
          "text": [
            "пример: 154753    беспорядок сам запутаться сигать бердыев мрн м...\n",
            "Name: data_cleaned, dtype: object\n",
            "до padding: [8506, 53, 2442, 321, 722]\n",
            "после padding: [   0    0    0    0    0    0    0    0    0    0    0    0    0    0\n",
            "    0    0    0    0    0    0    0    0    0    0    0    0    0    0\n",
            "    0    0    0    0    0    0    0    0    0    0    0    0    0    0\n",
            "    0    0    0 8506   53 2442  321  722]\n"
          ],
          "name": "stdout"
        }
      ]
    },
    {
      "cell_type": "code",
      "metadata": {
        "id": "aLK1aAF1X0Db"
      },
      "source": [
        "%tensorflow_version 2.x\n",
        "from tensorflow.keras.datasets import imdb\n",
        "from tensorflow.keras.models import Sequential\n",
        "from tensorflow.keras.layers import Dense, Embedding, SimpleRNN \n",
        "from tensorflow.keras import utils\n",
        "from tensorflow.keras.preprocessing.sequence import pad_sequences\n",
        "import numpy as np\n",
        "import matplotlib.pyplot as plt\n",
        "%matplotlib inline "
      ],
      "execution_count": null,
      "outputs": []
    },
    {
      "cell_type": "markdown",
      "metadata": {
        "id": "722cghwPlhzq"
      },
      "source": [
        "\n",
        "\n",
        "---\n",
        "\n",
        "\n",
        "\n",
        "---\n",
        "\n"
      ]
    },
    {
      "cell_type": "markdown",
      "metadata": {
        "id": "BfSJBHK_lkRJ"
      },
      "source": [
        "Word2vec"
      ]
    },
    {
      "cell_type": "code",
      "metadata": {
        "id": "H-96C-brPNVe"
      },
      "source": [
        "import gensim\n",
        "import multiprocessing\n",
        "from gensim.models import Word2Vec\n",
        "def read_questions(row):\n",
        "    return gensim.utils.simple_preprocess(str(row).encode('utf-8'))\n",
        "    \n",
        "sentences = []\n",
        "for row in df['data_cleaned']:\n",
        "    sentences.append(read_questions(row))"
      ],
      "execution_count": null,
      "outputs": []
    },
    {
      "cell_type": "code",
      "metadata": {
        "id": "utmSQfeDPI5I",
        "colab": {
          "base_uri": "https://localhost:8080/"
        },
        "outputId": "3575d6d8-7029-4250-d814-2212b8037e8c"
      },
      "source": [
        "sentences[0:3]"
      ],
      "execution_count": null,
      "outputs": [
        {
          "output_type": "execute_result",
          "data": {
            "text/plain": [
              "[['школотый',\n",
              "  'поверь',\n",
              "  'самый',\n",
              "  'общество',\n",
              "  'профилировать',\n",
              "  'предмет',\n",
              "  'тип'],\n",
              " ['таки', 'немного', 'похожий', 'мальчик', 'равно'],\n",
              " ['идиотка', 'испугаться']]"
            ]
          },
          "metadata": {
            "tags": []
          },
          "execution_count": 19
        }
      ]
    },
    {
      "cell_type": "code",
      "metadata": {
        "id": "ZJ476z-eQU6N"
      },
      "source": [
        "num_words = 100000\n",
        "sentence_length = max_len\n",
        "# вычислили в процессе построения словаря\n",
        "embedding_size = 200"
      ],
      "execution_count": null,
      "outputs": []
    },
    {
      "cell_type": "code",
      "metadata": {
        "id": "sJZxOyvzOrbZ"
      },
      "source": [
        "model_w2v = gensim.models.Word2Vec(size=200, window=5, min_count=3, workers=multiprocessing.cpu_count())\n",
        "model_w2v.build_vocab(sentences)  "
      ],
      "execution_count": null,
      "outputs": []
    },
    {
      "cell_type": "code",
      "metadata": {
        "id": "fuYY3RSoQH7P",
        "colab": {
          "base_uri": "https://localhost:8080/"
        },
        "outputId": "9e07a042-d219-4b37-c912-722b9624d741"
      },
      "source": [
        "model_w2v.train(sentences = sentences, total_examples = len(sentences), epochs = model_w2v.iter)"
      ],
      "execution_count": null,
      "outputs": [
        {
          "output_type": "stream",
          "text": [
            "/usr/local/lib/python3.6/dist-packages/ipykernel_launcher.py:1: DeprecationWarning: Call to deprecated `iter` (Attribute will be removed in 4.0.0, use self.epochs instead).\n",
            "  \"\"\"Entry point for launching an IPython kernel.\n"
          ],
          "name": "stderr"
        },
        {
          "output_type": "execute_result",
          "data": {
            "text/plain": [
              "(6493004, 7205555)"
            ]
          },
          "metadata": {
            "tags": []
          },
          "execution_count": 39
        }
      ]
    },
    {
      "cell_type": "code",
      "metadata": {
        "id": "ePVKBZq6Pc-8",
        "colab": {
          "base_uri": "https://localhost:8080/"
        },
        "outputId": "efcea1d4-c354-45ce-8098-2de86f0a1ed9"
      },
      "source": [
        "data_example = model_w2v.most_similar('думать')\n",
        "print(data_example)"
      ],
      "execution_count": null,
      "outputs": [
        {
          "output_type": "stream",
          "text": [
            "[('наверное', 0.7998193502426147), ('наверно', 0.7658997178077698), ('точно', 0.7648589611053467), ('неужели', 0.7594778537750244), ('уверенный', 0.7525678277015686), ('жалеть', 0.7464075088500977), ('значит', 0.7458125352859497), ('привыкнуть', 0.745547890663147), ('объяснять', 0.7423334717750549), ('замус', 0.7417981028556824)]\n"
          ],
          "name": "stdout"
        },
        {
          "output_type": "stream",
          "text": [
            "/usr/local/lib/python3.6/dist-packages/ipykernel_launcher.py:1: DeprecationWarning: Call to deprecated `most_similar` (Method will be removed in 4.0.0, use self.wv.most_similar() instead).\n",
            "  \"\"\"Entry point for launching an IPython kernel.\n",
            "/usr/local/lib/python3.6/dist-packages/gensim/matutils.py:737: FutureWarning: Conversion of the second argument of issubdtype from `int` to `np.signedinteger` is deprecated. In future, it will be treated as `np.int64 == np.dtype(int).type`.\n",
            "  if np.issubdtype(vec.dtype, np.int):\n"
          ],
          "name": "stderr"
        }
      ]
    },
    {
      "cell_type": "code",
      "metadata": {
        "id": "wb4b_khLc3xj"
      },
      "source": [
        "word_vectors = model_w2v.wv"
      ],
      "execution_count": null,
      "outputs": []
    },
    {
      "cell_type": "code",
      "metadata": {
        "colab": {
          "base_uri": "https://localhost:8080/"
        },
        "id": "oD1F3HNV1cKH",
        "outputId": "b83a084d-0e15-418f-8fcd-aa97337b972d"
      },
      "source": [
        "word_vectors.index2entity[:10]"
      ],
      "execution_count": null,
      "outputs": [
        {
          "output_type": "execute_result",
          "data": {
            "text/plain": [
              "['это',\n",
              " 'хотеть',\n",
              " 'день',\n",
              " 'такой',\n",
              " 'сегодня',\n",
              " 'быть',\n",
              " 'очень',\n",
              " 'мой',\n",
              " 'ты',\n",
              " 'знать']"
            ]
          },
          "metadata": {
            "tags": []
          },
          "execution_count": 42
        }
      ]
    },
    {
      "cell_type": "code",
      "metadata": {
        "id": "vH80E8RlexLM",
        "colab": {
          "base_uri": "https://localhost:8080/"
        },
        "outputId": "7b50f7b3-7af7-4d82-bac4-4c3497bfa08d"
      },
      "source": [
        "embedding_vector = word_vectors['это']\n",
        "embedding_vector.shape"
      ],
      "execution_count": null,
      "outputs": [
        {
          "output_type": "execute_result",
          "data": {
            "text/plain": [
              "(200,)"
            ]
          },
          "metadata": {
            "tags": []
          },
          "execution_count": 43
        }
      ]
    },
    {
      "cell_type": "code",
      "metadata": {
        "id": "PWyCibpddzav"
      },
      "source": [
        "EMBEDDING_DIM = 200\n",
        "vocabulary_size = min(len(word_index)+1, max_words)\n",
        "embedding_matrix = np.zeros((vocabulary_size, EMBEDDING_DIM))\n",
        "for word, i in word_index.items():\n",
        "    if i>= max_words:\n",
        "        continue\n",
        "    try:\n",
        "        embedding_vector = word_vectors[word]\n",
        "        embedding_matrix[i] = embedding_vector\n",
        "    except KeyError:\n",
        "        embedding_matrix[i]=np.random.normal(0,np.sqrt(0.25),EMBEDDING_DIM)\n",
        "\n",
        "del(word_vectors)\n"
      ],
      "execution_count": null,
      "outputs": []
    },
    {
      "cell_type": "code",
      "metadata": {
        "colab": {
          "base_uri": "https://localhost:8080/"
        },
        "id": "rIdoVQodqj8s",
        "outputId": "d846f832-00af-469e-a24c-34f7dd3a0288"
      },
      "source": [
        "embedding_matrix[1]"
      ],
      "execution_count": null,
      "outputs": [
        {
          "output_type": "execute_result",
          "data": {
            "text/plain": [
              "array([ 0.55544156, -0.39380041, -0.22345535, -0.03918546,  0.33611917,\n",
              "        0.21653375, -0.47190988, -0.6217795 ,  0.80244446,  0.25249422,\n",
              "       -0.51968503, -0.3860929 , -0.09647284,  0.48078609, -0.19762461,\n",
              "        0.39689201,  0.14878556, -0.48805323, -0.60942656, -0.23960902,\n",
              "        0.95447612, -0.00205228, -0.09878159, -0.25783062, -1.10582829,\n",
              "        0.6666171 ,  0.01853548,  0.37641355, -0.29472825, -0.17733532,\n",
              "        0.78544098, -0.66896975, -0.22325908,  0.56116772,  0.30184501,\n",
              "        0.25106531, -0.26743099,  0.05685185, -0.40118721, -0.56478292,\n",
              "        0.17258646,  0.09616009,  0.9228763 ,  0.32457095,  0.25763753,\n",
              "        1.10589862,  0.44248024,  0.38967574,  0.64464974, -0.21679831,\n",
              "       -0.32062677, -0.2527746 , -0.28507143,  0.7652086 , -0.2617918 ,\n",
              "        0.243111  , -1.08597982,  0.32278717,  0.72478896,  0.12793675,\n",
              "       -0.6146161 , -0.52112943, -0.44354755,  0.20874168,  0.12831348,\n",
              "        0.48528841,  0.35580605,  0.74416703, -0.12347947,  0.36235946,\n",
              "       -0.27093336, -0.0968236 ,  0.31455296,  0.15607651,  0.41754064,\n",
              "       -0.6323536 , -0.26795933,  0.36607373, -0.04824213,  0.07622181,\n",
              "       -0.03908783, -0.05764235,  0.9216615 ,  0.29660866, -0.39450794,\n",
              "        0.52983224,  0.09615086, -0.19057144, -0.42856655,  0.07748776,\n",
              "       -0.37150043,  0.0151303 , -0.90610486, -0.15575056, -0.96888679,\n",
              "        0.78373504, -0.3017295 ,  1.01225686, -0.15061848,  0.04267285,\n",
              "        0.01032751, -0.61959606,  0.32255539, -1.12383604, -0.43298313,\n",
              "        0.13128921,  0.49207583, -0.61502349, -0.02700339, -0.08081415,\n",
              "       -0.55595952, -0.55295432,  0.66831499, -0.26035669,  0.16390701,\n",
              "       -0.31605655,  0.45401961, -0.37354383, -0.17805859,  0.66899776,\n",
              "       -0.32406989,  0.14124849,  0.58043331,  0.47439432,  0.07010143,\n",
              "        0.90828162,  0.40285307, -0.22836894, -0.48482522, -0.72792381,\n",
              "        0.60312927, -0.297849  , -0.00474388, -0.33067244,  0.37726617,\n",
              "       -0.36733216, -0.08651531, -0.14068574, -0.02793132, -0.27898535,\n",
              "        0.08665318,  0.43892124, -0.3090646 ,  0.74800503, -0.0452932 ,\n",
              "        0.41807196, -0.28321117, -1.26772416,  0.86461902, -0.41926679,\n",
              "        0.37978268, -0.62747133,  0.53960735, -0.56758755, -0.28656951,\n",
              "       -0.3112382 ,  0.01338614, -0.30179703,  0.01872409, -0.09558663,\n",
              "        0.83060598,  0.41987869, -0.10334682,  0.02912594,  0.54225397,\n",
              "        0.02978522, -0.2154872 , -0.06850856,  0.67092317,  0.13567924,\n",
              "       -0.89974225,  0.32544804,  0.34414423,  0.04535748,  0.10049278,\n",
              "       -0.01807954,  0.65877032,  0.73786765, -0.2293788 , -0.1010038 ,\n",
              "        0.03328952, -0.89714277, -0.62627202,  0.24567464,  0.16709419,\n",
              "       -0.52380484, -0.03161176,  0.03686749,  0.14355858,  0.1694487 ,\n",
              "       -0.35999796,  0.1772998 ,  0.21113637, -0.17298229, -0.12863292,\n",
              "        0.0501496 , -0.1645449 , -0.22223717, -0.45495251, -0.75533378])"
            ]
          },
          "metadata": {
            "tags": []
          },
          "execution_count": 45
        }
      ]
    },
    {
      "cell_type": "code",
      "metadata": {
        "id": "ZlwEN2GBfFeS"
      },
      "source": [
        "from keras.layers import Dense, Input, GlobalMaxPooling1D\n",
        "from keras.layers import Conv1D, MaxPooling1D, Embedding\n",
        "from keras.models import Model\n",
        "from keras.layers import Input, Dense, Embedding, Conv2D, MaxPooling2D, Dropout,concatenate\n",
        "from keras.layers.core import Reshape, Flatten\n",
        "from keras.callbacks import EarlyStopping\n",
        "from keras.optimizers import Adam\n",
        "from keras.models import Model\n",
        "from keras import regularizers\n"
      ],
      "execution_count": null,
      "outputs": []
    },
    {
      "cell_type": "code",
      "metadata": {
        "id": "6XAr2eEdfgB9",
        "colab": {
          "base_uri": "https://localhost:8080/"
        },
        "outputId": "bc0500ee-8d6d-4da0-b1d4-23b5823260e8"
      },
      "source": [
        "###  С ИСПОЛЬЗОВАНИЕМ ЭМБЕДДИНГ МАТРИЦЫ\n",
        "lstm_model = Sequential()\n",
        "lstm_model.add(Embedding(vocabulary_size, 200, trainable = False, weights=[embedding_matrix]))\n",
        "lstm_model.add(LSTM(128, return_sequences=False))\n",
        "lstm_model.add(Dropout(0.5))\n",
        "lstm_model.add(Dense(1, activation = 'sigmoid'))\n",
        "lstm_model.compile(loss='binary_crossentropy', optimizer='adam', metrics=['accuracy'])\n",
        "print(lstm_model.summary())"
      ],
      "execution_count": null,
      "outputs": [
        {
          "output_type": "stream",
          "text": [
            "Model: \"sequential_1\"\n",
            "_________________________________________________________________\n",
            "Layer (type)                 Output Shape              Param #   \n",
            "=================================================================\n",
            "embedding_1 (Embedding)      (None, None, 200)         2000000   \n",
            "_________________________________________________________________\n",
            "lstm_1 (LSTM)                (None, 128)               168448    \n",
            "_________________________________________________________________\n",
            "dropout_1 (Dropout)          (None, 128)               0         \n",
            "_________________________________________________________________\n",
            "dense_1 (Dense)              (None, 1)                 129       \n",
            "=================================================================\n",
            "Total params: 2,168,577\n",
            "Trainable params: 168,577\n",
            "Non-trainable params: 2,000,000\n",
            "_________________________________________________________________\n",
            "None\n"
          ],
          "name": "stdout"
        }
      ]
    },
    {
      "cell_type": "code",
      "metadata": {
        "id": "NJKtR7fQfqAM",
        "colab": {
          "base_uri": "https://localhost:8080/"
        },
        "outputId": "d7e4c33e-4389-4d41-ed95-5099e895fef5"
      },
      "source": [
        "%%time\n",
        "batch_size = 256\n",
        "epochs  = 10\n",
        "history = lstm_model.fit(xtrain_pad, np.asarray(ytrain), validation_data=(xtest_pad, np.asarray(ytest)), batch_size = batch_size, epochs = epochs)"
      ],
      "execution_count": null,
      "outputs": [
        {
          "output_type": "stream",
          "text": [
            "Epoch 1/10\n",
            "700/700 [==============================] - 7s 11ms/step - loss: 0.6393 - accuracy: 0.6248 - val_loss: 0.6188 - val_accuracy: 0.6479\n",
            "Epoch 2/10\n",
            "700/700 [==============================] - 7s 10ms/step - loss: 0.6124 - accuracy: 0.6559 - val_loss: 0.6035 - val_accuracy: 0.6629\n",
            "Epoch 3/10\n",
            "700/700 [==============================] - 7s 10ms/step - loss: 0.6004 - accuracy: 0.6665 - val_loss: 0.5959 - val_accuracy: 0.6701\n",
            "Epoch 4/10\n",
            "700/700 [==============================] - 7s 11ms/step - loss: 0.5910 - accuracy: 0.6756 - val_loss: 0.5975 - val_accuracy: 0.6668\n",
            "Epoch 5/10\n",
            "700/700 [==============================] - 7s 10ms/step - loss: 0.5837 - accuracy: 0.6826 - val_loss: 0.5877 - val_accuracy: 0.6788\n",
            "Epoch 6/10\n",
            "700/700 [==============================] - 7s 10ms/step - loss: 0.5771 - accuracy: 0.6875 - val_loss: 0.5848 - val_accuracy: 0.6820\n",
            "Epoch 7/10\n",
            "700/700 [==============================] - 7s 10ms/step - loss: 0.5701 - accuracy: 0.6932 - val_loss: 0.5824 - val_accuracy: 0.6848\n",
            "Epoch 8/10\n",
            "700/700 [==============================] - 7s 10ms/step - loss: 0.5632 - accuracy: 0.6983 - val_loss: 0.5844 - val_accuracy: 0.6822\n",
            "Epoch 9/10\n",
            "700/700 [==============================] - 7s 10ms/step - loss: 0.5568 - accuracy: 0.7039 - val_loss: 0.5895 - val_accuracy: 0.6791\n",
            "Epoch 10/10\n",
            "700/700 [==============================] - 7s 10ms/step - loss: 0.5504 - accuracy: 0.7092 - val_loss: 0.5813 - val_accuracy: 0.6874\n",
            "CPU times: user 1min 4s, sys: 8.71 s, total: 1min 13s\n",
            "Wall time: 1min 13s\n"
          ],
          "name": "stdout"
        }
      ]
    },
    {
      "cell_type": "code",
      "metadata": {
        "id": "v_2CRz50fxzD",
        "colab": {
          "base_uri": "https://localhost:8080/",
          "height": 475
        },
        "outputId": "604ad21b-47ef-4a1d-bcfe-b39be2d406fa"
      },
      "source": [
        "epochs = 10\n",
        "plt.figure(figsize=(15, 7))\n",
        "plt.plot(range(epochs), history.history['accuracy'])\n",
        "plt.plot(range(epochs), history.history['val_accuracy'])\n",
        "plt.legend(['Доля верных ответов на обучающем наборе', 'Доля верных ответов на проверочном набор'])\n",
        "plt.xlabel('Эпоха обучения')\n",
        "plt.ylabel('Доля верных ответов')\n",
        "plt.title('Accuracy')"
      ],
      "execution_count": null,
      "outputs": [
        {
          "output_type": "execute_result",
          "data": {
            "text/plain": [
              "Text(0.5, 1.0, 'Accuracy')"
            ]
          },
          "metadata": {
            "tags": []
          },
          "execution_count": 49
        },
        {
          "output_type": "display_data",
          "data": {
            "image/png": "[encoded data removed]",
            "text/plain": [
              "<Figure size 1080x504 with 1 Axes>"
            ]
          },
          "metadata": {
            "tags": [],
            "needs_background": "light"
          }
        }
      ]
    },
    {
      "cell_type": "code",
      "metadata": {
        "colab": {
          "base_uri": "https://localhost:8080/"
        },
        "id": "6FHlI4Nj-dTT",
        "outputId": "83431a9d-9a01-4cdb-8f38-aeedcaa01d14"
      },
      "source": [
        "scores_1 = lstm_model.evaluate(xtest_pad, ytest, verbose=1)"
      ],
      "execution_count": null,
      "outputs": [
        {
          "output_type": "stream",
          "text": [
            "1400/1400 [==============================] - 4s 3ms/step - loss: 0.5813 - accuracy: 0.6874\n"
          ],
          "name": "stdout"
        }
      ]
    },
    {
      "cell_type": "code",
      "metadata": {
        "id": "8va0VvqQ08ch",
        "colab": {
          "base_uri": "https://localhost:8080/"
        },
        "outputId": "5171d59a-f8aa-400e-82b6-0d9a621da63b"
      },
      "source": [
        "text1 = ['отличный день']\n",
        "text2 = ['меня бесит, что у меня ничего не получается']\n",
        "text1_seq = tokenizer.texts_to_sequences(text1)\n",
        "text2_seq = tokenizer.texts_to_sequences(text2)\n",
        "text1_pad = sequence.pad_sequences(text1_seq, maxlen=max_len)\n",
        "text2_pad = sequence.pad_sequences(text2_seq, maxlen=max_len)\n",
        "\n",
        "result_lstm1 = lstm_model.predict(text1_pad)\n",
        "result_lstm2 = lstm_model.predict(text2_pad)\n",
        "\n",
        "print(result_lstm1)\n",
        "print(result_lstm2)\n",
        "\n",
        "for result in [result_lstm1, result_lstm2]: \n",
        "  if result < 0.5:\n",
        "      print('Отзыв отрицательный')\n",
        "  else:\n",
        "      print('Отзыв положительный')\n"
      ],
      "execution_count": null,
      "outputs": [
        {
          "output_type": "stream",
          "text": [
            "[[0.92735076]]\n",
            "[[0.36496496]]\n",
            "Отзыв положительный\n",
            "Отзыв отрицательный\n"
          ],
          "name": "stdout"
        }
      ]
    },
    {
      "cell_type": "code",
      "metadata": {
        "colab": {
          "base_uri": "https://localhost:8080/"
        },
        "id": "nu7gGPQxhiFR",
        "outputId": "c14a15ac-b5e6-4d65-b614-b5bc527b4a5b"
      },
      "source": [
        "# более сложные отзывы\n",
        "text3 = ['курсовая работа была сложной, но я полностью разобралась']\n",
        "text4 = ['курсовая работа была очень сложной, и я не разобралась']\n",
        "text3_seq = tokenizer.texts_to_sequences(text3)\n",
        "text3_pad = sequence.pad_sequences(text3_seq, maxlen=max_len)\n",
        "text4_seq = tokenizer.texts_to_sequences(text4)\n",
        "text4_pad = sequence.pad_sequences(text4_seq, maxlen=max_len)\n",
        "\n",
        "result_3 = lstm_model.predict(text3_pad)\n",
        "result_4 = lstm_model.predict(text4_pad)\n",
        "print(result_3)\n",
        "print(result_4)\n",
        "for result in [result_3, result_4]:\n",
        "  if result < 0.5:\n",
        "        print('Отзыв отрицательный') \n",
        "  else:\n",
        "        print('Отзыв положительный')"
      ],
      "execution_count": null,
      "outputs": [
        {
          "output_type": "stream",
          "text": [
            "[[0.47257808]]\n",
            "[[0.3528063]]\n",
            "Отзыв отрицательный\n",
            "Отзыв отрицательный\n"
          ],
          "name": "stdout"
        }
      ]
    },
    {
      "cell_type": "code",
      "metadata": {
        "colab": {
          "base_uri": "https://localhost:8080/"
        },
        "id": "Z7AKdHNn3p8l",
        "outputId": "2831fa08-0bc0-415f-9b78-736ceeeb5066"
      },
      "source": [
        "lstm_pred = lstm_model.predict(xtest_pad)\n",
        "\n",
        "from sklearn.metrics import confusion_matrix\n",
        "print(confusion_matrix(ytest, lstm_pred.round()))\n",
        "\n",
        "FP = confusion_matrix(ytest, lstm_pred.round())[0][1]\n",
        "FN = confusion_matrix(ytest, lstm_pred.round())[1][0]\n",
        "\n",
        "print('False Positive (ошибка 1го рода): ', FP)\n",
        "print('False Negative (ошибка 2го рода): ', FN)\n",
        "print('len array', len(lstm_pred))\n",
        "\n",
        "accuracy = 100-((FP+FN)*100/len(lstm_pred))\n",
        "print(accuracy)"
      ],
      "execution_count": null,
      "outputs": [
        {
          "output_type": "stream",
          "text": [
            "[[14959  7345]\n",
            " [ 6648 15818]]\n",
            "False Positive (ошибка 1го рода):  7345\n",
            "False Negative (ошибка 2го рода):  6648\n",
            "len array 44770\n",
            "68.74469510833147\n"
          ],
          "name": "stdout"
        }
      ]
    },
    {
      "cell_type": "code",
      "metadata": {
        "id": "xdOUqj78j3LH"
      },
      "source": [
        "### ДАННЫЕ БЕЗ ЛЕММАТИЗАЦИИ\n",
        "xtrain1, xtest1, ytrain1, ytest1 = train_test_split(data, df['mark'], shuffle = True, test_size=0.2)\n",
        "tokenizer = text.Tokenizer(num_words = max_words)\n",
        "\n",
        "tokenizer.fit_on_texts(xtrain1)\n",
        "\n",
        "xtrain_seq1 = tokenizer.texts_to_sequences(xtrain1)\n",
        "xtest_seq1 = tokenizer.texts_to_sequences(xtest1)\n",
        "\n",
        "xtrain_pad1 = sequence.pad_sequences(xtrain_seq1, maxlen=max_len)\n",
        "xtest_pad1 = sequence.pad_sequences(xtest_seq1, maxlen=max_len)\n",
        "word_index1 = tokenizer.word_index"
      ],
      "execution_count": null,
      "outputs": []
    },
    {
      "cell_type": "code",
      "metadata": {
        "id": "pi9EII0qkZCH"
      },
      "source": [
        "lstm_model_1 = Sequential()\n",
        "lstm_model_1.add(Embedding(vocabulary_size, 200, trainable = False, weights=[embedding_matrix]))\n",
        "lstm_model_1.add(LSTM(128, return_sequences=False))\n",
        "lstm_model_1.add(Dropout(0.5))\n",
        "lstm_model_1.add(Dense(1, activation = 'sigmoid'))\n",
        "lstm_model_1.compile(loss='binary_crossentropy', optimizer='adam', metrics=['accuracy'])\n"
      ],
      "execution_count": null,
      "outputs": []
    },
    {
      "cell_type": "code",
      "metadata": {
        "colab": {
          "base_uri": "https://localhost:8080/"
        },
        "id": "z-MzMEFjkiT6",
        "outputId": "f86cec9a-e1e4-4245-ff47-3626f2f0116d"
      },
      "source": [
        "%%time\n",
        "batch_size = 256\n",
        "epochs  = 10\n",
        "history1 = lstm_model_1.fit(xtrain_pad1, np.asarray(ytrain1), validation_data=(xtest_pad1, np.asarray(ytest1)), batch_size = batch_size, epochs = epochs)"
      ],
      "execution_count": null,
      "outputs": [
        {
          "output_type": "stream",
          "text": [
            "Epoch 1/10\n",
            "700/700 [==============================] - 8s 12ms/step - loss: 0.6512 - accuracy: 0.6156 - val_loss: 0.6294 - val_accuracy: 0.6421\n",
            "Epoch 2/10\n",
            "700/700 [==============================] - 8s 11ms/step - loss: 0.6221 - accuracy: 0.6493 - val_loss: 0.6128 - val_accuracy: 0.6564\n",
            "Epoch 3/10\n",
            "700/700 [==============================] - 8s 11ms/step - loss: 0.6056 - accuracy: 0.6662 - val_loss: 0.6007 - val_accuracy: 0.6679\n",
            "Epoch 4/10\n",
            "700/700 [==============================] - 8s 11ms/step - loss: 0.5922 - accuracy: 0.6792 - val_loss: 0.5940 - val_accuracy: 0.6753\n",
            "Epoch 5/10\n",
            "700/700 [==============================] - 8s 11ms/step - loss: 0.5801 - accuracy: 0.6889 - val_loss: 0.5932 - val_accuracy: 0.6757\n",
            "Epoch 6/10\n",
            "700/700 [==============================] - 8s 11ms/step - loss: 0.5700 - accuracy: 0.6965 - val_loss: 0.5835 - val_accuracy: 0.6835\n",
            "Epoch 7/10\n",
            "700/700 [==============================] - 8s 11ms/step - loss: 0.5603 - accuracy: 0.7052 - val_loss: 0.5832 - val_accuracy: 0.6834\n",
            "Epoch 8/10\n",
            "700/700 [==============================] - 8s 11ms/step - loss: 0.5498 - accuracy: 0.7135 - val_loss: 0.5824 - val_accuracy: 0.6889\n",
            "Epoch 9/10\n",
            "700/700 [==============================] - 8s 11ms/step - loss: 0.5402 - accuracy: 0.7205 - val_loss: 0.5815 - val_accuracy: 0.6894\n",
            "Epoch 10/10\n",
            "700/700 [==============================] - 8s 11ms/step - loss: 0.5300 - accuracy: 0.7284 - val_loss: 0.5798 - val_accuracy: 0.6918\n",
            "CPU times: user 1min 6s, sys: 9.98 s, total: 1min 16s\n",
            "Wall time: 1min 19s\n"
          ],
          "name": "stdout"
        }
      ]
    },
    {
      "cell_type": "code",
      "metadata": {
        "colab": {
          "base_uri": "https://localhost:8080/"
        },
        "id": "5zItEh0Ck1kG",
        "outputId": "5816ae4e-97c3-4476-9623-9b4d3f26fc8f"
      },
      "source": [
        "scores_1_1 = lstm_model_1.evaluate(xtest_pad1, ytest1, verbose=1)"
      ],
      "execution_count": null,
      "outputs": [
        {
          "output_type": "stream",
          "text": [
            "1400/1400 [==============================] - 5s 3ms/step - loss: 0.5798 - accuracy: 0.6918\n"
          ],
          "name": "stdout"
        }
      ]
    },
    {
      "cell_type": "code",
      "metadata": {
        "id": "SAOR8KdsyHmg"
      },
      "source": [
        "### МОДЕЛЬ БЕЗ ИСПОЛЬЗОВАНИЯ МАТРИЦЫ ВЕСОВ\n",
        "lstm_model_no = Sequential()\n",
        "lstm_model_no.add(Embedding(vocabulary_size, 200))\n",
        "lstm_model_no.add(LSTM(128, return_sequences=False))\n",
        "lstm_model_no.add(Dropout(0.5))\n",
        "lstm_model_no.add(Dense(1, activation = 'sigmoid'))\n",
        "lstm_model_no.compile(loss='binary_crossentropy', optimizer='adam', metrics=['accuracy'])"
      ],
      "execution_count": null,
      "outputs": []
    },
    {
      "cell_type": "code",
      "metadata": {
        "colab": {
          "base_uri": "https://localhost:8080/"
        },
        "id": "qjDtQIymyTxX",
        "outputId": "dce9a0b3-092c-4937-f482-b8979d1d1794"
      },
      "source": [
        "%%time\n",
        "batch_size = 256\n",
        "epochs  = 10\n",
        "history_no = lstm_model_no.fit(xtrain_pad, np.asarray(ytrain), validation_data=(xtest_pad, np.asarray(ytest)), batch_size = batch_size, epochs = epochs)"
      ],
      "execution_count": null,
      "outputs": [
        {
          "output_type": "stream",
          "text": [
            "Epoch 1/10\n",
            "700/700 [==============================] - 26s 37ms/step - loss: 0.5724 - accuracy: 0.6960 - val_loss: 0.5475 - val_accuracy: 0.7196\n",
            "Epoch 2/10\n",
            "700/700 [==============================] - 25s 36ms/step - loss: 0.5179 - accuracy: 0.7395 - val_loss: 0.5447 - val_accuracy: 0.7196\n",
            "Epoch 3/10\n",
            "700/700 [==============================] - 25s 36ms/step - loss: 0.4865 - accuracy: 0.7577 - val_loss: 0.5592 - val_accuracy: 0.7192\n",
            "Epoch 4/10\n",
            "700/700 [==============================] - 25s 35ms/step - loss: 0.4575 - accuracy: 0.7729 - val_loss: 0.5789 - val_accuracy: 0.7152\n",
            "Epoch 5/10\n",
            "700/700 [==============================] - 24s 35ms/step - loss: 0.4274 - accuracy: 0.7890 - val_loss: 0.6152 - val_accuracy: 0.7124\n",
            "Epoch 6/10\n",
            "700/700 [==============================] - 24s 35ms/step - loss: 0.3965 - accuracy: 0.8055 - val_loss: 0.6555 - val_accuracy: 0.7098\n",
            "Epoch 7/10\n",
            "700/700 [==============================] - 24s 34ms/step - loss: 0.3657 - accuracy: 0.8211 - val_loss: 0.6910 - val_accuracy: 0.7093\n",
            "Epoch 8/10\n",
            "700/700 [==============================] - 24s 35ms/step - loss: 0.3355 - accuracy: 0.8365 - val_loss: 0.8293 - val_accuracy: 0.7042\n",
            "Epoch 9/10\n",
            "700/700 [==============================] - 25s 35ms/step - loss: 0.3081 - accuracy: 0.8501 - val_loss: 0.9290 - val_accuracy: 0.7039\n",
            "Epoch 10/10\n",
            "700/700 [==============================] - 24s 35ms/step - loss: 0.2835 - accuracy: 0.8622 - val_loss: 1.0308 - val_accuracy: 0.7001\n",
            "CPU times: user 4min 42s, sys: 15.1 s, total: 4min 57s\n",
            "Wall time: 4min 8s\n"
          ],
          "name": "stdout"
        }
      ]
    },
    {
      "cell_type": "code",
      "metadata": {
        "colab": {
          "base_uri": "https://localhost:8080/"
        },
        "id": "HLUWBCA4zJyu",
        "outputId": "ac67703a-4a17-441d-c8f9-fc21682f2acf"
      },
      "source": [
        "scores_1_no = lstm_model_no.evaluate(xtest_pad, ytest, verbose=1)"
      ],
      "execution_count": null,
      "outputs": [
        {
          "output_type": "stream",
          "text": [
            "1400/1400 [==============================] - 5s 4ms/step - loss: 1.0309 - accuracy: 0.7001\n"
          ],
          "name": "stdout"
        }
      ]
    },
    {
      "cell_type": "markdown",
      "metadata": {
        "id": "LOpySeUvgFR4"
      },
      "source": [
        "cnn\n"
      ]
    },
    {
      "cell_type": "code",
      "metadata": {
        "id": "xUU7P7j_HL3e"
      },
      "source": [
        "model_cnn = Sequential()\n",
        "model_cnn.add(Embedding(max_words, 200, input_length = max_len))\n",
        "model_cnn.add(Conv1D(250, 5, padding='valid', activation='relu'))\n",
        "model_cnn.add(GlobalMaxPooling1D())\n",
        "model_cnn.add(Dense(128, activation='relu'))\n",
        "model_cnn.add(Dropout(0.2))\n",
        "model_cnn.add(Dense(1, activation='sigmoid'))"
      ],
      "execution_count": null,
      "outputs": []
    },
    {
      "cell_type": "code",
      "metadata": {
        "id": "ZVrcbIt8H232"
      },
      "source": [
        "model_cnn.compile(optimizer='adam', \n",
        "              loss='binary_crossentropy', \n",
        "              metrics=['accuracy'])"
      ],
      "execution_count": null,
      "outputs": []
    },
    {
      "cell_type": "code",
      "metadata": {
        "colab": {
          "base_uri": "https://localhost:8080/"
        },
        "id": "krmseK6kBvGc",
        "outputId": "02492108-680a-412b-960f-e9885be25a6b"
      },
      "source": [
        "model_cnn.summary()"
      ],
      "execution_count": null,
      "outputs": [
        {
          "output_type": "stream",
          "text": [
            "Model: \"sequential_2\"\n",
            "_________________________________________________________________\n",
            "Layer (type)                 Output Shape              Param #   \n",
            "=================================================================\n",
            "embedding_2 (Embedding)      (None, 50, 200)           2000000   \n",
            "_________________________________________________________________\n",
            "conv1d (Conv1D)              (None, 46, 250)           250250    \n",
            "_________________________________________________________________\n",
            "global_max_pooling1d (Global (None, 250)               0         \n",
            "_________________________________________________________________\n",
            "dense_2 (Dense)              (None, 128)               32128     \n",
            "_________________________________________________________________\n",
            "dropout_2 (Dropout)          (None, 128)               0         \n",
            "_________________________________________________________________\n",
            "dense_3 (Dense)              (None, 1)                 129       \n",
            "=================================================================\n",
            "Total params: 2,282,507\n",
            "Trainable params: 2,282,507\n",
            "Non-trainable params: 0\n",
            "_________________________________________________________________\n"
          ],
          "name": "stdout"
        }
      ]
    },
    {
      "cell_type": "code",
      "metadata": {
        "id": "RBunP2LAHuxh",
        "colab": {
          "base_uri": "https://localhost:8080/"
        },
        "outputId": "a375b6db-754e-4710-af34-bfcefcfa8b84"
      },
      "source": [
        "%%time\n",
        "callbacks = [EarlyStopping(monitor='val_loss')]\n",
        "\n",
        "history_cnn = model_cnn.fit(xtrain_pad, \n",
        "                    ytrain, \n",
        "                    epochs=10,\n",
        "                    batch_size=256, validation_split = 0.1,  callbacks = [callbacks])"
      ],
      "execution_count": null,
      "outputs": [
        {
          "output_type": "stream",
          "text": [
            "Epoch 1/10\n",
            "630/630 [==============================] - 17s 28ms/step - loss: 0.0464 - accuracy: 0.9795 - val_loss: 2.4468 - val_accuracy: 0.6906\n",
            "Epoch 2/10\n",
            "630/630 [==============================] - 17s 28ms/step - loss: 0.0430 - accuracy: 0.9812 - val_loss: 2.4295 - val_accuracy: 0.6894\n",
            "Epoch 3/10\n",
            "630/630 [==============================] - 17s 28ms/step - loss: 0.0413 - accuracy: 0.9816 - val_loss: 2.5068 - val_accuracy: 0.6933\n",
            "CPU times: user 1min 8s, sys: 3.41 s, total: 1min 12s\n",
            "Wall time: 52.4 s\n"
          ],
          "name": "stdout"
        }
      ]
    },
    {
      "cell_type": "code",
      "metadata": {
        "id": "BLwpRjJsHzWv",
        "colab": {
          "base_uri": "https://localhost:8080/",
          "height": 475
        },
        "outputId": "fe20a812-641f-44b6-af68-41e643ff479e"
      },
      "source": [
        "epochs = 10\n",
        "plt.figure(figsize=(15, 7))\n",
        "plt.plot(range(epochs), history_cnn.history['accuracy'])\n",
        "plt.plot(range(epochs), history_cnn.history['val_accuracy'])\n",
        "plt.legend(['Доля верных ответов на обучающем наборе', 'Доля верных ответов на проверочном набор'])\n",
        "plt.xlabel('Эпоха обучения')\n",
        "plt.ylabel('Доля верных ответов')\n",
        "plt.title('Accuracy')"
      ],
      "execution_count": null,
      "outputs": [
        {
          "output_type": "execute_result",
          "data": {
            "text/plain": [
              "Text(0.5, 1.0, 'Accuracy')"
            ]
          },
          "metadata": {
            "tags": []
          },
          "execution_count": 70
        },
        {
          "output_type": "display_data",
          "data": {
            "image/png": "[encoded data removed]",
            "text/plain": [
              "<Figure size 1080x504 with 1 Axes>"
            ]
          },
          "metadata": {
            "tags": [],
            "needs_background": "light"
          }
        }
      ]
    },
    {
      "cell_type": "code",
      "metadata": {
        "id": "kWwe_W9JM5qV",
        "colab": {
          "base_uri": "https://localhost:8080/"
        },
        "outputId": "b04786ac-f8b0-4a77-da88-dbee288128a7"
      },
      "source": [
        "model_cnn.evaluate(xtest_pad, ytest, verbose=1)"
      ],
      "execution_count": null,
      "outputs": [
        {
          "output_type": "stream",
          "text": [
            "1400/1400 [==============================] - 3s 2ms/step - loss: 2.4653 - accuracy: 0.6937\n"
          ],
          "name": "stdout"
        },
        {
          "output_type": "execute_result",
          "data": {
            "text/plain": [
              "[2.4652838706970215, 0.6936787962913513]"
            ]
          },
          "metadata": {
            "tags": []
          },
          "execution_count": 83
        }
      ]
    },
    {
      "cell_type": "code",
      "metadata": {
        "id": "pfFT1jhsIUqR",
        "colab": {
          "base_uri": "https://localhost:8080/"
        },
        "outputId": "110ab3f7-deeb-4443-cfe1-36a32b29371c"
      },
      "source": [
        "text_1 = ['отличный день']\n",
        "text_2 = ['меня бесит, что у меня ничего не получается']\n",
        "text1_seq = tokenizer.texts_to_sequences(text_1)\n",
        "text2_seq = tokenizer.texts_to_sequences(text_2)\n",
        "text1_pad = sequence.pad_sequences(text1_seq, maxlen=max_len)\n",
        "text2_pad = sequence.pad_sequences(text2_seq, maxlen=max_len)\n",
        "\n",
        "result_cnn1 = model_cnn.predict(text1_pad)\n",
        "result_cnn2 = model_cnn.predict(text2_pad)\n",
        "\n",
        "print(result_cnn1)\n",
        "print(result_cnn2)"
      ],
      "execution_count": null,
      "outputs": [
        {
          "output_type": "stream",
          "text": [
            "[[0.02478812]]\n",
            "[[0.04972959]]\n"
          ],
          "name": "stdout"
        }
      ]
    },
    {
      "cell_type": "code",
      "metadata": {
        "id": "pdiHQmsoKds4",
        "colab": {
          "base_uri": "https://localhost:8080/"
        },
        "outputId": "23049975-1a95-4571-b245-52e55239aa1e"
      },
      "source": [
        "for result in [result_cnn1, result_cnn2]: \n",
        "  if result < 0.5:\n",
        "      print('Отзыв отрицательный')\n",
        "  else:\n",
        "      print('Отзыв положительный')"
      ],
      "execution_count": null,
      "outputs": [
        {
          "output_type": "stream",
          "text": [
            "Отзыв отрицательный\n",
            "Отзыв отрицательный\n"
          ],
          "name": "stdout"
        }
      ]
    },
    {
      "cell_type": "code",
      "metadata": {
        "colab": {
          "base_uri": "https://localhost:8080/"
        },
        "id": "OgXFuNFlm9qh",
        "outputId": "50cba75f-a404-4b5c-8443-af74800c23f4"
      },
      "source": [
        "# более сложные отзывы\n",
        "text3 = ['курсовая работа была сложной, но я полностью разобралась']\n",
        "text4 = ['курсовая работа была очень сложной, и я не разобралась']\n",
        "text3_seq = tokenizer.texts_to_sequences(text3)\n",
        "text3_pad = sequence.pad_sequences(text3_seq, maxlen=max_len)\n",
        "text4_seq = tokenizer.texts_to_sequences(text4)\n",
        "text4_pad = sequence.pad_sequences(text4_seq, maxlen=max_len)\n",
        "\n",
        "result_3 = model_cnn.predict(text3_pad)\n",
        "result_4 = model_cnn.predict(text4_pad)\n",
        "print(result_3)\n",
        "print(result_4)\n",
        "for result in [result_3, result_4]:\n",
        "  if result < 0.5:\n",
        "        print('Отзыв отрицательный') \n",
        "  else:\n",
        "        print('Отзыв положительный')"
      ],
      "execution_count": null,
      "outputs": [
        {
          "output_type": "stream",
          "text": [
            "[[4.7128815e-06]]\n",
            "[[1.9489962e-05]]\n",
            "Отзыв отрицательный\n",
            "Отзыв отрицательный\n"
          ],
          "name": "stdout"
        }
      ]
    },
    {
      "cell_type": "code",
      "metadata": {
        "id": "nXF470et9ZlT"
      },
      "source": [
        ""
      ],
      "execution_count": null,
      "outputs": []
    },
    {
      "cell_type": "markdown",
      "metadata": {
        "id": "O_CKU6qQoEAb"
      },
      "source": [
        "\n",
        "\n",
        "---\n",
        "\n",
        "\n",
        "\n",
        "\n",
        "---\n",
        "\n",
        "\n",
        "\n",
        "---\n",
        "\n"
      ]
    },
    {
      "cell_type": "code",
      "metadata": {
        "id": "EyZT5MWsE_1L"
      },
      "source": [
        "model_cnn_1 = Sequential()\n",
        "model_cnn_1.add(Embedding(max_words, 200, input_length = max_len, trainable = False, weights=[embedding_matrix]))\n",
        "model_cnn_1.add(Conv1D(250, 5, padding='valid', activation='relu'))\n",
        "model_cnn_1.add(GlobalMaxPooling1D())\n",
        "model_cnn_1.add(Dense(128, activation='relu'))\n",
        "model_cnn_1.add(Dropout(0.2))\n",
        "model_cnn_1.add(Dense(1, activation='sigmoid'))"
      ],
      "execution_count": null,
      "outputs": []
    },
    {
      "cell_type": "code",
      "metadata": {
        "id": "LB2D4QsaFqnZ"
      },
      "source": [
        "model_cnn_1.compile(optimizer='adam', \n",
        "              loss='binary_crossentropy', \n",
        "              metrics=['accuracy'])"
      ],
      "execution_count": null,
      "outputs": []
    },
    {
      "cell_type": "code",
      "metadata": {
        "colab": {
          "base_uri": "https://localhost:8080/"
        },
        "id": "5BlbY_cYFJT6",
        "outputId": "3f15cd2e-02c7-46bb-d977-8876e605e8f7"
      },
      "source": [
        "%%time\n",
        "callbacks = [EarlyStopping(monitor='val_loss')]\n",
        "batch_size = 256\n",
        "epochs  = 10\n",
        "history = model_cnn_1.fit(xtrain_pad, np.asarray(ytrain), validation_data=(xtest_pad, np.asarray(ytest)), batch_size = batch_size, epochs = epochs, callbacks=[callbacks])"
      ],
      "execution_count": null,
      "outputs": [
        {
          "output_type": "stream",
          "text": [
            "Epoch 1/10\n",
            "700/700 [==============================] - 6s 9ms/step - loss: 0.6409 - accuracy: 0.6242 - val_loss: 0.6185 - val_accuracy: 0.6454\n",
            "Epoch 2/10\n",
            "700/700 [==============================] - 6s 8ms/step - loss: 0.6110 - accuracy: 0.6565 - val_loss: 0.6101 - val_accuracy: 0.6554\n",
            "Epoch 3/10\n",
            "700/700 [==============================] - 6s 8ms/step - loss: 0.5945 - accuracy: 0.6714 - val_loss: 0.6085 - val_accuracy: 0.6560\n",
            "Epoch 4/10\n",
            "700/700 [==============================] - 6s 8ms/step - loss: 0.5800 - accuracy: 0.6850 - val_loss: 0.6058 - val_accuracy: 0.6600\n",
            "Epoch 5/10\n",
            "700/700 [==============================] - 6s 8ms/step - loss: 0.5656 - accuracy: 0.6969 - val_loss: 0.6043 - val_accuracy: 0.6621\n",
            "Epoch 6/10\n",
            "700/700 [==============================] - 6s 8ms/step - loss: 0.5504 - accuracy: 0.7078 - val_loss: 0.6147 - val_accuracy: 0.6633\n",
            "CPU times: user 29.7 s, sys: 5.78 s, total: 35.4 s\n",
            "Wall time: 35.1 s\n"
          ],
          "name": "stdout"
        }
      ]
    },
    {
      "cell_type": "code",
      "metadata": {
        "colab": {
          "base_uri": "https://localhost:8080/"
        },
        "id": "f2-nlM3tFNzM",
        "outputId": "ae3b15e1-8ccb-47fe-ed34-41e52f440d3c"
      },
      "source": [
        "model_cnn_1.evaluate(xtest_pad, ytest, verbose=1)"
      ],
      "execution_count": null,
      "outputs": [
        {
          "output_type": "stream",
          "text": [
            "1400/1400 [==============================] - 3s 2ms/step - loss: 0.6147 - accuracy: 0.6633\n"
          ],
          "name": "stdout"
        },
        {
          "output_type": "execute_result",
          "data": {
            "text/plain": [
              "[0.6147214770317078, 0.6633236408233643]"
            ]
          },
          "metadata": {
            "tags": []
          },
          "execution_count": 74
        }
      ]
    },
    {
      "cell_type": "code",
      "metadata": {
        "colab": {
          "base_uri": "https://localhost:8080/"
        },
        "id": "2AdYDAuFpwwu",
        "outputId": "51f02ffd-17b2-4b9e-d450-06d7312280f6"
      },
      "source": [
        "text_1 = ['отличный день']\n",
        "text_2 = ['меня бесит, что у меня ничего не получается']\n",
        "text1_seq = tokenizer.texts_to_sequences(text_1)\n",
        "text2_seq = tokenizer.texts_to_sequences(text_2)\n",
        "text1_pad = sequence.pad_sequences(text1_seq, maxlen=max_len)\n",
        "text2_pad = sequence.pad_sequences(text2_seq, maxlen=max_len)\n",
        "\n",
        "result_cnn_1 = model_cnn_1.predict(text1_pad)\n",
        "result_cnn_2 = model_cnn_1.predict(text2_pad)\n",
        "\n",
        "print(result_cnn_1)\n",
        "print(result_cnn_2)\n",
        "for result in [result_cnn_1, result_cnn_2]:\n",
        "  if result < 0.5:\n",
        "        print('Отзыв отрицательный') \n",
        "  else:\n",
        "        print('Отзыв положительный')"
      ],
      "execution_count": null,
      "outputs": [
        {
          "output_type": "stream",
          "text": [
            "[[0.8580939]]\n",
            "[[0.312147]]\n",
            "Отзыв положительный\n",
            "Отзыв отрицательный\n"
          ],
          "name": "stdout"
        }
      ]
    },
    {
      "cell_type": "code",
      "metadata": {
        "colab": {
          "base_uri": "https://localhost:8080/"
        },
        "id": "QlA18lWNp5Iw",
        "outputId": "fcc97f25-efe7-4892-8eea-9f39800348fd"
      },
      "source": [
        "# более сложные отзывы\n",
        "text3 = ['курсовая работа была сложной, но я полностью разобралась']\n",
        "text4 = ['курсовая работа была очень сложной, и я не разобралась']\n",
        "text3_seq = tokenizer.texts_to_sequences(text3)\n",
        "text3_pad = sequence.pad_sequences(text3_seq, maxlen=max_len)\n",
        "text4_seq = tokenizer.texts_to_sequences(text4)\n",
        "text4_pad = sequence.pad_sequences(text4_seq, maxlen=max_len)\n",
        "\n",
        "result_3 = model_cnn_1.predict(text3_pad)\n",
        "result_4 = model_cnn_1.predict(text4_pad)\n",
        "print(result_3)\n",
        "print(result_4)\n",
        "for result in [result_3, result_4]:\n",
        "  if result < 0.5:\n",
        "        print('Отзыв отрицательный') \n",
        "  else:\n",
        "        print('Отзыв положительный')"
      ],
      "execution_count": null,
      "outputs": [
        {
          "output_type": "stream",
          "text": [
            "[[0.18044801]]\n",
            "[[0.16727673]]\n",
            "Отзыв отрицательный\n",
            "Отзыв отрицательный\n"
          ],
          "name": "stdout"
        }
      ]
    },
    {
      "cell_type": "code",
      "metadata": {
        "colab": {
          "base_uri": "https://localhost:8080/"
        },
        "id": "m3HXIDlU9x6U",
        "outputId": "37e9e321-8cc7-4999-b05e-90b2a3adcecd"
      },
      "source": [
        "cnn_pred = model_cnn.predict(xtest_pad)\n",
        "\n",
        "from sklearn.metrics import confusion_matrix\n",
        "print(confusion_matrix(ytest, cnn_pred.round()))\n",
        "\n",
        "FP = confusion_matrix(ytest, cnn_pred.round())[0][1]\n",
        "FN = confusion_matrix(ytest, cnn_pred.round())[1][0]\n",
        "\n",
        "print('False Positive (ошибка 1го рода): ', FP)\n",
        "print('False Negative (ошибка 2го рода): ', FN)\n",
        "print('len array', len(cnn_pred))\n",
        "\n",
        "accuracy = 100-((FP+FN)*100/len(cnn_pred))\n",
        "print(accuracy)"
      ],
      "execution_count": null,
      "outputs": [
        {
          "output_type": "stream",
          "text": [
            "[[15950  6354]\n",
            " [ 7360 15106]]\n",
            "False Positive (ошибка 1го рода):  6354\n",
            "False Negative (ошибка 2го рода):  7360\n",
            "len array 44770\n",
            "69.36788027697119\n"
          ],
          "name": "stdout"
        }
      ]
    },
    {
      "cell_type": "markdown",
      "metadata": {
        "id": "l5i9HKB6r7Z_"
      },
      "source": [
        "\n",
        "\n",
        "---\n",
        "\n",
        "\n",
        "\n",
        "---\n",
        "\n",
        "\n",
        "\n",
        "---\n",
        "\n",
        "\n",
        "\n",
        "---\n",
        "\n"
      ]
    },
    {
      "cell_type": "code",
      "metadata": {
        "colab": {
          "base_uri": "https://localhost:8080/",
          "height": 204
        },
        "id": "FjkUIYITr8Nr",
        "outputId": "113b39c2-7083-4e45-da2b-f6015ce223b1"
      },
      "source": [
        "data_test = df.sample(n=5, random_state=4)\n",
        "data_test"
      ],
      "execution_count": null,
      "outputs": [
        {
          "output_type": "execute_result",
          "data": {
            "text/html": [
              "<div>\n",
              "<style scoped>\n",
              "    .dataframe tbody tr th:only-of-type {\n",
              "        vertical-align: middle;\n",
              "    }\n",
              "\n",
              "    .dataframe tbody tr th {\n",
              "        vertical-align: top;\n",
              "    }\n",
              "\n",
              "    .dataframe thead th {\n",
              "        text-align: right;\n",
              "    }\n",
              "</style>\n",
              "<table border=\"1\" class=\"dataframe\">\n",
              "  <thead>\n",
              "    <tr style=\"text-align: right;\">\n",
              "      <th></th>\n",
              "      <th>data_cleaned</th>\n",
              "      <th>mark</th>\n",
              "    </tr>\n",
              "  </thead>\n",
              "  <tbody>\n",
              "    <tr>\n",
              "      <th>218736</th>\n",
              "      <td>самый стрёмный состояние икать целый день лома...</td>\n",
              "      <td>0</td>\n",
              "    </tr>\n",
              "    <tr>\n",
              "      <th>156902</th>\n",
              "      <td>хотеть гуляяять сидеть дом куча книга</td>\n",
              "      <td>0</td>\n",
              "    </tr>\n",
              "    <tr>\n",
              "      <th>115071</th>\n",
              "      <td>ах 15 день рождение выглядеть крутой</td>\n",
              "      <td>0</td>\n",
              "    </tr>\n",
              "    <tr>\n",
              "      <th>27056</th>\n",
              "      <td>николай михаилович быть говорить</td>\n",
              "      <td>1</td>\n",
              "    </tr>\n",
              "    <tr>\n",
              "      <th>77037</th>\n",
              "      <td>сам сам светло улица надуть</td>\n",
              "      <td>1</td>\n",
              "    </tr>\n",
              "  </tbody>\n",
              "</table>\n",
              "</div>"
            ],
            "text/plain": [
              "                                             data_cleaned  mark\n",
              "218736  самый стрёмный состояние икать целый день лома...     0\n",
              "156902              хотеть гуляяять сидеть дом куча книга     0\n",
              "115071               ах 15 день рождение выглядеть крутой     0\n",
              "27056                    николай михаилович быть говорить     1\n",
              "77037                         сам сам светло улица надуть     1"
            ]
          },
          "metadata": {
            "tags": []
          },
          "execution_count": 451
        }
      ]
    },
    {
      "cell_type": "code",
      "metadata": {
        "colab": {
          "base_uri": "https://localhost:8080/",
          "height": 204
        },
        "id": "xbpyPd9msH0q",
        "outputId": "c6e806ad-e40d-442f-bc7b-24917e22f5dd"
      },
      "source": [
        "\n",
        "lstm_list = []\n",
        "al = []\n",
        "for i in range(len(data_test)):\n",
        "  temp = [data_test.values[i][0]]\n",
        "  a = sequence.pad_sequences(tokenizer.texts_to_sequences(temp))\n",
        "  lstm_list.append(lstm_model.predict(a)[0][0])\n",
        "  al.append(a)\n",
        "\n",
        "data_test['LSTM'] = lstm_list\n",
        "\n",
        "data_test"
      ],
      "execution_count": null,
      "outputs": [
        {
          "output_type": "execute_result",
          "data": {
            "text/html": [
              "<div>\n",
              "<style scoped>\n",
              "    .dataframe tbody tr th:only-of-type {\n",
              "        vertical-align: middle;\n",
              "    }\n",
              "\n",
              "    .dataframe tbody tr th {\n",
              "        vertical-align: top;\n",
              "    }\n",
              "\n",
              "    .dataframe thead th {\n",
              "        text-align: right;\n",
              "    }\n",
              "</style>\n",
              "<table border=\"1\" class=\"dataframe\">\n",
              "  <thead>\n",
              "    <tr style=\"text-align: right;\">\n",
              "      <th></th>\n",
              "      <th>data_cleaned</th>\n",
              "      <th>mark</th>\n",
              "      <th>LSTM</th>\n",
              "    </tr>\n",
              "  </thead>\n",
              "  <tbody>\n",
              "    <tr>\n",
              "      <th>218736</th>\n",
              "      <td>самый стрёмный состояние икать целый день лома...</td>\n",
              "      <td>0</td>\n",
              "      <td>0.522862</td>\n",
              "    </tr>\n",
              "    <tr>\n",
              "      <th>156902</th>\n",
              "      <td>хотеть гуляяять сидеть дом куча книга</td>\n",
              "      <td>0</td>\n",
              "      <td>0.707308</td>\n",
              "    </tr>\n",
              "    <tr>\n",
              "      <th>115071</th>\n",
              "      <td>ах 15 день рождение выглядеть крутой</td>\n",
              "      <td>0</td>\n",
              "      <td>0.450733</td>\n",
              "    </tr>\n",
              "    <tr>\n",
              "      <th>27056</th>\n",
              "      <td>николай михаилович быть говорить</td>\n",
              "      <td>1</td>\n",
              "      <td>0.621119</td>\n",
              "    </tr>\n",
              "    <tr>\n",
              "      <th>77037</th>\n",
              "      <td>сам сам светло улица надуть</td>\n",
              "      <td>1</td>\n",
              "      <td>0.915591</td>\n",
              "    </tr>\n",
              "  </tbody>\n",
              "</table>\n",
              "</div>"
            ],
            "text/plain": [
              "                                             data_cleaned  mark      LSTM\n",
              "218736  самый стрёмный состояние икать целый день лома...     0  0.522862\n",
              "156902              хотеть гуляяять сидеть дом куча книга     0  0.707308\n",
              "115071               ах 15 день рождение выглядеть крутой     0  0.450733\n",
              "27056                    николай михаилович быть говорить     1  0.621119\n",
              "77037                         сам сам светло улица надуть     1  0.915591"
            ]
          },
          "metadata": {
            "tags": []
          },
          "execution_count": 453
        }
      ]
    },
    {
      "cell_type": "code",
      "metadata": {
        "id": "4FFxpKzz4ti0"
      },
      "source": [
        "lstm_list = []\n",
        "cnn_list = []\n",
        "for i in range(len(data_test)):\n",
        "  temp = [data_test.values[i][0]]\n",
        "  a = sequence.pad_sequences(tokenizer.texts_to_sequences(temp))\n",
        "  lstm_list.append(lstm_model.predict(a)[0][0])\n",
        "  cnn_list.append(model_cnn_1.predict(a)[0][0])\n",
        "\n",
        "data_test['LSTM'] = lstm_list\n",
        "data_test['CNN'] = cnn_list\n",
        "\n",
        "data_test"
      ],
      "execution_count": null,
      "outputs": []
    },
    {
      "cell_type": "code",
      "metadata": {
        "colab": {
          "base_uri": "https://localhost:8080/"
        },
        "id": "_WOkPjo_01R6",
        "outputId": "ff6228d2-4263-49da-a24e-92abf339969a"
      },
      "source": [
        "al[3]"
      ],
      "execution_count": null,
      "outputs": [
        {
          "output_type": "execute_result",
          "data": {
            "text/plain": [
              "array([[9702,  114,  557]], dtype=int32)"
            ]
          },
          "metadata": {
            "tags": []
          },
          "execution_count": 392
        }
      ]
    },
    {
      "cell_type": "code",
      "metadata": {
        "id": "8ahPyNUgsMEE"
      },
      "source": [
        "cnn_list= []\n",
        "cnn_list.append(model_cnn_1.predict(al[0])[0][0])\n",
        "cnn_list.append(model_cnn_1.predict(al[1])[0][0])\n",
        "cnn_list.append(model_cnn_1.predict(al[2])[0][0])\n",
        "cnn_list.append(0.5562311)\n",
        "cnn_list.append(model_cnn_1.predict(al[4])[0][0])\n"
      ],
      "execution_count": null,
      "outputs": []
    },
    {
      "cell_type": "code",
      "metadata": {
        "id": "BpXdR1Xd0o3i"
      },
      "source": [
        "len(cnn_list)\n",
        "data_test['CNN'] = cnn_list"
      ],
      "execution_count": null,
      "outputs": []
    },
    {
      "cell_type": "code",
      "metadata": {
        "colab": {
          "base_uri": "https://localhost:8080/",
          "height": 204
        },
        "id": "POLpUoPt1AKq",
        "outputId": "33e5afda-7bb3-4847-adba-8b951406e794"
      },
      "source": [
        "data_test"
      ],
      "execution_count": null,
      "outputs": [
        {
          "output_type": "execute_result",
          "data": {
            "text/html": [
              "<div>\n",
              "<style scoped>\n",
              "    .dataframe tbody tr th:only-of-type {\n",
              "        vertical-align: middle;\n",
              "    }\n",
              "\n",
              "    .dataframe tbody tr th {\n",
              "        vertical-align: top;\n",
              "    }\n",
              "\n",
              "    .dataframe thead th {\n",
              "        text-align: right;\n",
              "    }\n",
              "</style>\n",
              "<table border=\"1\" class=\"dataframe\">\n",
              "  <thead>\n",
              "    <tr style=\"text-align: right;\">\n",
              "      <th></th>\n",
              "      <th>data_cleaned</th>\n",
              "      <th>mark</th>\n",
              "      <th>LSTM</th>\n",
              "      <th>CNN</th>\n",
              "    </tr>\n",
              "  </thead>\n",
              "  <tbody>\n",
              "    <tr>\n",
              "      <th>218736</th>\n",
              "      <td>самый стрёмный состояние икать целый день лома...</td>\n",
              "      <td>0</td>\n",
              "      <td>0.522862</td>\n",
              "      <td>0.325805</td>\n",
              "    </tr>\n",
              "    <tr>\n",
              "      <th>156902</th>\n",
              "      <td>хотеть гуляяять сидеть дом куча книга</td>\n",
              "      <td>0</td>\n",
              "      <td>0.707308</td>\n",
              "      <td>0.406903</td>\n",
              "    </tr>\n",
              "    <tr>\n",
              "      <th>115071</th>\n",
              "      <td>ах 15 день рождение выглядеть крутой</td>\n",
              "      <td>0</td>\n",
              "      <td>0.450733</td>\n",
              "      <td>0.371154</td>\n",
              "    </tr>\n",
              "    <tr>\n",
              "      <th>27056</th>\n",
              "      <td>николай михаилович быть говорить</td>\n",
              "      <td>1</td>\n",
              "      <td>0.621119</td>\n",
              "      <td>0.556231</td>\n",
              "    </tr>\n",
              "    <tr>\n",
              "      <th>77037</th>\n",
              "      <td>сам сам светло улица надуть</td>\n",
              "      <td>1</td>\n",
              "      <td>0.915591</td>\n",
              "      <td>0.503376</td>\n",
              "    </tr>\n",
              "  </tbody>\n",
              "</table>\n",
              "</div>"
            ],
            "text/plain": [
              "                                             data_cleaned  ...       CNN\n",
              "218736  самый стрёмный состояние икать целый день лома...  ...  0.325805\n",
              "156902              хотеть гуляяять сидеть дом куча книга  ...  0.406903\n",
              "115071               ах 15 день рождение выглядеть крутой  ...  0.371154\n",
              "27056                    николай михаилович быть говорить  ...  0.556231\n",
              "77037                         сам сам светло улица надуть  ...  0.503376\n",
              "\n",
              "[5 rows x 4 columns]"
            ]
          },
          "metadata": {
            "tags": []
          },
          "execution_count": 456
        }
      ]
    },
    {
      "cell_type": "code",
      "metadata": {
        "id": "_k65BYgs2VOB"
      },
      "source": [
        "data_test = data_test.drop('data_cleaned', axis=1)"
      ],
      "execution_count": null,
      "outputs": []
    },
    {
      "cell_type": "code",
      "metadata": {
        "colab": {
          "base_uri": "https://localhost:8080/",
          "height": 389
        },
        "id": "xNqkeu251Bn5",
        "outputId": "e68bd96a-4f5a-41f8-904e-b51e9525cbdd"
      },
      "source": [
        "import seaborn as sns\n",
        "plt.figure(figsize=(12, 6))\n",
        "\n",
        "ax = sns.heatmap(data_test, annot=True)\n",
        "i, k = ax.get_ylim()\n",
        "ax.set_ylim(i+1, k-1)"
      ],
      "execution_count": null,
      "outputs": [
        {
          "output_type": "execute_result",
          "data": {
            "text/plain": [
              "(6.0, -1.0)"
            ]
          },
          "metadata": {
            "tags": []
          },
          "execution_count": 463
        },
        {
          "output_type": "display_data",
          "data": {
            "image/png": "[encoded data removed]",
            "text/plain": [
              "<Figure size 864x432 with 2 Axes>"
            ]
          },
          "metadata": {
            "tags": [],
            "needs_background": "light"
          }
        }
      ]
    },
    {
      "cell_type": "code",
      "metadata": {
        "id": "EscBym6D173X"
      },
      "source": [
        ""
      ],
      "execution_count": null,
      "outputs": []
    }
  ]
}